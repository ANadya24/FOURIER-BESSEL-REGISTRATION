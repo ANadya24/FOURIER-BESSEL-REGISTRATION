{
 "cells": [
  {
   "cell_type": "markdown",
   "metadata": {},
   "source": [
    "## Способ \"в лоб\""
   ]
  },
  {
   "cell_type": "code",
   "execution_count": 1,
   "metadata": {
    "collapsed": true
   },
   "outputs": [],
   "source": [
    "import numpy as np\n",
    "import scipy as sp\n",
    "import scipy.integrate\n",
    "from scipy import misc\n",
    "import pandas as pd\n",
    "from scipy.ndimage.interpolation import geometric_transform\n",
    "import os\n",
    "from timeit import default_timer as timer\n",
    "import tqdm\n",
    "\n",
    "def FBT1(pol, m, x, u_net, theta_net):\n",
    "    f1 = np.exp(-1j*m*theta_net)\n",
    "    f2 = pol * f1\n",
    "    fm = np.trapz(f2, theta_net, axis=1)\n",
    "    fm = fm / (2 * np.pi)\n",
    "#     Fm = np.zeros(x_net.shape, dtype=fm.dtype)\n",
    "#     flag = m < 0\n",
    "    ff = sp.special.jv(m, u_net*x) * fm * u_net\n",
    "#     if m < 0:\n",
    "#         ff *= (-1)**(-1*m)\n",
    "    Fm = np.trapz(np.real(ff), u_net, axis=0) + 1j*np.trapz(np.imag(ff), u_net, axis=0)\n",
    "    return Fm\n",
    "\n",
    "def polar_trfm(Im, ntheta, nrad, rmax):\n",
    "    #Polar Transform\n",
    "    rows, cols = Im.shape\n",
    "    cx = (rows+1)/2\n",
    "    cy = (cols+1)/2\n",
    "#     rmax=(rows-1)/2\n",
    "#     deltatheta = 2 * np.pi/(ntheta)\n",
    "#     deltarad = rmax/(nrad-1)\n",
    "    theta_int = np.linspace(0, 2*np.pi, ntheta)\n",
    "    r_int = np.linspace(0, rmax, nrad)\n",
    "    theta, radius = np.meshgrid(theta_int, r_int)\n",
    "    def transform(coords):\n",
    "        theta = 2.0*np.pi*coords[1] / ntheta\n",
    "        radius = rmax * coords[0] / nrad\n",
    "        i = cx + radius*np.cos(theta)\n",
    "        j = radius*np.sin(theta) + cy\n",
    "        return i,j\n",
    "\n",
    "    PolIm = geometric_transform(Im.astype(float), transform, order=1, mode='constant', output_shape=(nrad, ntheta))\n",
    "    PolIm[np.isnan(PolIm[:])] = 0\n",
    "    return PolIm"
   ]
  },
  {
   "cell_type": "code",
   "execution_count": 2,
   "metadata": {
    "collapsed": true
   },
   "outputs": [],
   "source": [
    "A = 64\n",
    "p_s = 1\n",
    "# im = np.arange(-60, 60, p_s)\n",
    "# ih = np.arange(-60, 60, p_s)\n",
    "# imm = np.arange(0, 120, p_s)\n",
    "ro_max = 7\n",
    "# ro_max = 0.025 * 2*A #maximum expected offset of COM\n",
    "k = ro_max/p_s\n",
    "b = ro_max/2\n",
    "eps = np.pi/(2*k)\n",
    "# B = 128\n",
    "# s_ang = 2*B\n",
    "s_ang = np.pi*A/p_s\n",
    "B = s_ang/2\n",
    "s_rad = 2*B/np.pi\n",
    "theta_net = np.linspace(0, 2*np.pi, int(s_ang))\n",
    "u_net = np.linspace(0, A, int(s_rad))\n",
    "# x_net = np.linspace(0, B/A-1, s_rad)\n",
    "ksi_net = np.linspace(0, 2*np.pi, int(np.pi*k))\n",
    "eta_net = np.linspace(0, 2*np.pi, int(k))\n",
    "\n",
    "m0 = lambda x: A*np.e*0.5*x - A*A*x*x/B*(0.5*np.e - 1)\n",
    "M = np.zeros(int(s_rad), dtype=float)\n",
    "H = np.zeros(int(s_rad), dtype=float)\n",
    "# MM = np.array(m0(x_net))\n",
    "for i in range(int(s_rad)):\n",
    "    xj = i*np.pi*0.5/A\n",
    "#     print(xj == x_net[i])\n",
    "    M[i] = min(np.e*b*xj*0.5, 2*B*b/A - 1)\n",
    "    H[i] = min(np.e*b*xj*0.5, 2*B*b/(np.pi*A) - 1)"
   ]
  },
  {
   "cell_type": "code",
   "execution_count": 3,
   "metadata": {},
   "outputs": [
    {
     "name": "stderr",
     "output_type": "stream",
     "text": [
      " 11%|█         | 7/63 [00:00<00:01, 50.45it/s]"
     ]
    },
    {
     "name": "stdout",
     "output_type": "stream",
     "text": [
      "(21, 7, 100)\n"
     ]
    },
    {
     "name": "stderr",
     "output_type": "stream",
     "text": [
      "100%|██████████| 63/63 [03:55<00:00,  3.74s/it]"
     ]
    },
    {
     "name": "stdout",
     "output_type": "stream",
     "text": [
      "done\n",
      "(21, 7, 100)\n"
     ]
    },
    {
     "name": "stderr",
     "output_type": "stream",
     "text": [
      "\n"
     ]
    }
   ],
   "source": [
    "path_in = \"/Users/anoshin_alexey/Documents/Projects/Fast-Bessel-Matching/\"\n",
    "\n",
    "im1 = misc.imread(path_in + \"imm.png\")\n",
    "pol1 = polar_trfm(im1, int(s_ang), int(s_rad), A)\n",
    "\n",
    "im2 = misc.imread(path_in + \"test/1/imm3.png\")\n",
    "pol2 = polar_trfm(im2, int(s_ang), int(s_rad), A)\n",
    "\n",
    "Tf = np.zeros((int(np.pi*k), int(k), int(B)), dtype='complex')\n",
    "print(Tf.shape)\n",
    "          \n",
    "for j in tqdm.tqdm(np.arange(0, 2*B/np.pi - 1, dtype=int)):\n",
    "    for m1 in np.arange(-M[j], M[j], dtype=int):\n",
    "        c1 = sp.special.jv(m1, b * xj) * xj\n",
    "        xj = j*np.pi*0.5/A\n",
    "        for h1 in np.arange(-H[j], H[j], dtype=int):\n",
    "            c2 = sp.special.jv(h1, b * xj) * c1\n",
    "            for mm in np.arange(0, m0(xj), dtype=int):\n",
    "#                 print(mm)\n",
    "                Fm = FBT1(pol1, int(m1+h1+mm), xj, u_net, theta_net)\n",
    "                Gm = FBT1(pol2, int(mm), xj, u_net, theta_net)\n",
    "#                 print(Fm, Gm)\n",
    "                im1 = (m1 + M[j]).astype(int)\n",
    "                ih1 = (h1 + H[j]).astype(int)\n",
    "#                 print(im1, ih1, mm)\n",
    "                Tf[im1, ih1, mm] += Fm * np.conj(Gm) * c2\n",
    "print(\"done\")\n",
    "print(Tf.shape)           "
   ]
  },
  {
   "cell_type": "code",
   "execution_count": 62,
   "metadata": {},
   "outputs": [
    {
     "name": "stderr",
     "output_type": "stream",
     "text": [
      "100%|██████████| 30/30 [00:00<00:00, 208.76it/s]"
     ]
    },
    {
     "name": "stdout",
     "output_type": "stream",
     "text": [
      "(31, 10, 100)\n"
     ]
    },
    {
     "name": "stderr",
     "output_type": "stream",
     "text": [
      "\n"
     ]
    }
   ],
   "source": [
    "print(Tf.shape)\n",
    "m = -1\n",
    "h = -1\n",
    "for m1 in tqdm.tqdm(np.arange(-np.pi*k*0.5 + 1, np.pi*k*0.5 - 1, dtype=int)):\n",
    "    m += 1\n",
    "    h = -1\n",
    "    for h1 in np.arange(-k*0.5 + 1, k*0.5 - 1, dtype=int):\n",
    "        h += 1\n",
    "        for mm in np.arange(0, B-1, dtype=int):\n",
    "            im1 = m\n",
    "            ih1 = h\n",
    "\n",
    "            Tf[im1, ih1, mm] *= 2*np.pi*np.exp(1j*(h1+mm)*eps)"
   ]
  },
  {
   "cell_type": "code",
   "execution_count": 63,
   "metadata": {},
   "outputs": [
    {
     "name": "stdout",
     "output_type": "stream",
     "text": [
      "complex128\n",
      "312.0 80.0 290.909090909\n",
      "312.0 -232.0 210.909090909\n",
      "299.909090909\n"
     ]
    }
   ],
   "source": [
    "T = np.fft.ifftn(Tf)\n",
    "print(T.dtype)\n",
    "omega_net = np.linspace(0, 2*np.pi, Tf.shape[2])\n",
    "# print(T.shape)\n",
    "[ipsi, ietta, iomegga] = np.unravel_index(np.argmax(np.real(T), axis=None), T.shape)\n",
    "ksi = ksi_net[ipsi]\n",
    "etta = eta_net[ietta]\n",
    "omegga = omega_net[iomegga]\n",
    "print(np.degrees(ksi), np.degrees(etta), np.degrees(omegga))\n",
    "print(np.degrees(ksi), np.degrees(etta - ksi), np.degrees(omegga - etta))\n",
    "alpha = eps + omegga\n",
    "phi = np.angle( np.exp(1j*(etta - ksi + eps)))\n",
    "rho = np.abs(b * np.sqrt(2*(1 + np.cos(etta - ksi + eps))))\n",
    "# rho = np.abs(np.complex(b+b*np.exp(etta - ksi + eps)))\n",
    "rhoo = np.abs(b * np.sqrt(2*(1 + np.cos(np.radians(10 + 11.25)))))\n",
    "phi = np.angle(np.exp(1j*ksi)*b*(1 + np.exp(1j*(etta - ksi + eps))))\n",
    "x = rho * np.cos(phi)\n",
    "y = rho * np.sin(phi)\n",
    "a = alpha * 180 / np.pi % 360\n",
    "print(a)\n"
   ]
  },
  {
   "cell_type": "markdown",
   "metadata": {},
   "source": [
    "## Изначальный способ (оптимизированный)"
   ]
  },
  {
   "cell_type": "code",
   "execution_count": 67,
   "metadata": {},
   "outputs": [
    {
     "name": "stdout",
     "output_type": "stream",
     "text": [
      "B= 128\n",
      "38 39\n",
      "12 12\n",
      "128 128\n"
     ]
    },
    {
     "name": "stderr",
     "output_type": "stream",
     "text": [
      "/anaconda/lib/python3.6/site-packages/ipykernel_launcher.py:113: DeprecationWarning: object of type <class 'float'> cannot be safely interpreted as an integer.\n",
      "/anaconda/lib/python3.6/site-packages/ipykernel_launcher.py:114: DeprecationWarning: object of type <class 'float'> cannot be safely interpreted as an integer.\n",
      "  0%|          | 0/38 [00:00<?, ?it/s]"
     ]
    },
    {
     "name": "stdout",
     "output_type": "stream",
     "text": [
      "Precount FBM of im1\n"
     ]
    },
    {
     "name": "stderr",
     "output_type": "stream",
     "text": [
      "100%|██████████| 38/38 [00:03<00:00, 12.18it/s]\n"
     ]
    },
    {
     "name": "stdout",
     "output_type": "stream",
     "text": [
      "(38, 12, 128)\n"
     ]
    },
    {
     "name": "stderr",
     "output_type": "stream",
     "text": [
      "100%|██████████| 38/38 [00:06<00:00,  5.96it/s]"
     ]
    },
    {
     "name": "stdout",
     "output_type": "stream",
     "text": [
      "(38, 12, 128)\n",
      "7 7 105\n",
      "9.88235294118 9.88235294118 148.235294118\n",
      "-113.684210526 162.775119617 68.5468861847 9.0\n",
      "-113.684210526 49.0909090909 117.637795276 9.0\n",
      "40 10 5 11.25 66.25\n",
      "126.637795276\n"
     ]
    },
    {
     "name": "stderr",
     "output_type": "stream",
     "text": [
      "\n"
     ]
    }
   ],
   "source": [
    "import numpy as np\n",
    "import scipy as sp\n",
    "from scipy import misc\n",
    "from scipy.integrate import simps\n",
    "import pandas as pd\n",
    "from scipy.ndimage.interpolation import geometric_transform\n",
    "import os\n",
    "from timeit import default_timer as timer\n",
    "import tqdm\n",
    "\n",
    "def FBT(pol, m, x_net, u_net, theta_net):\n",
    "    #compute formulas 10 and 11 from article\n",
    "    #Parameters: \n",
    "    #pol : image resampled to polar coordinates\n",
    "    #m : order of Bessel function (non integer give errors)\n",
    "    #x_net : vector of x from formula 10\n",
    "    # u_net, theta_net: polar grid of the given image\n",
    "    #return: vector of len(x_net)\n",
    "    \n",
    "    f1 = np.exp(-1j*m*theta_net)\n",
    "    f2 = pol * f1.reshape(1,-1)\n",
    "#     f2 = np.fft.fft(pol*np.exp(-1j*m), axis=1)\n",
    "    fm = np.trapz(np.real(f2), theta_net, axis=1) + 1j * np.trapz(np.imag(f2), theta_net, axis=1)\n",
    "    fm = fm / (2 * np.pi)\n",
    "#     Fm = np.zeros(x_net.shape, dtype=fm.dtype)\n",
    "\n",
    "    bessel = sp.special.jv(m, u_net.reshape(-1, 1).\n",
    "                       dot(x_net.reshape(1, -1)))\n",
    "#     if m < 0:\n",
    "#         bessel *= (-1)**abs(m)\n",
    "    ff = bessel * fm.reshape(-1,1) * u_net.reshape(-1,1)\n",
    "#     ff = sp.special.jn(m, u_net.dot(x_net)) * fm * u_net\n",
    "\n",
    "    Fm = np.trapz(np.real(ff), u_net, axis=0) + 1j * np.trapz(np.imag(ff), u_net, axis=0)\n",
    "    return Fm\n",
    "\n",
    "def polar_trfm(Im, ntheta, nrad, rmax):\n",
    "    #Polar Transform of the image with given numbers\n",
    "    # of polar grid samples and maximal radius\n",
    "    rows, cols = Im.shape\n",
    "    cx = (rows+1)/2\n",
    "    cy = (cols+1)/2\n",
    "#     rmax=(rows-1)/2\n",
    "#     deltatheta = 2 * np.pi/(ntheta)\n",
    "#     deltarad = rmax/(nrad-1)\n",
    "    theta_int = np.linspace(0, 2*np.pi, ntheta)\n",
    "    r_int = np.linspace(0, rmax, nrad)\n",
    "    theta, radius = np.meshgrid(theta_int, r_int)\n",
    "    def transform(coords):\n",
    "        theta1 = 2.0*np.pi*coords[1] / ntheta\n",
    "        radius1 = rmax * coords[0] / nrad\n",
    "        i = cx + radius1*np.cos(theta1)\n",
    "        j = radius1*np.sin(theta1) + cy\n",
    "        return i, j\n",
    "#     xi = radius * np.cos(theta) + cx\n",
    "#     yi = radius * np.sin(theta) + cy\n",
    "    PolIm = geometric_transform(Im.astype(float), transform, order=1, mode='constant', output_shape=(nrad, ntheta))\n",
    "    PolIm[np.isnan(PolIm[:])] = 0\n",
    "    return PolIm\n",
    "\n",
    "#Init the bandwith B, displacement samples k\n",
    "# A = 64 #radius of the image\n",
    "# p_s = 0.5\n",
    "# s_ang = np.pi*A/p_s\n",
    "B = 128\n",
    "\n",
    "#section 2.2.1: number of angular samples \n",
    "#to be used in formula 10, 11\n",
    "s_ang = 2*B\n",
    "p_s = np.pi*A/ s_ang\n",
    "# B = s_ang/2\n",
    "print('B=', B)\n",
    "\n",
    "#section 2.2.1: number of radial samples \n",
    "#to be used in formula 10, 11\n",
    "s_rad = 2*B/np.pi\n",
    "\n",
    "#maximum expected offset of COM\n",
    "ro_max = 10\n",
    "# ro_max = 0.025 * 2*A #maximum expected offset of COM\n",
    "# k = ro_max/p_s\n",
    "# print('k=', k)\n",
    "\n",
    "#displacement samples k\n",
    "k = 10\n",
    "b = ro_max / 2\n",
    "# p_s = 2 * b / k\n",
    "\n",
    "#radius of the image, upper limit in formula 10\n",
    "A = 2 * B * p_s / np.pi\n",
    "# print(\"a, ps\", A, p_s)\n",
    "\n",
    "#small value to avoid duplications\n",
    "eps = np.pi / (2*k)\n",
    "\n",
    "#bandwiths maximum abs values of m1,h1,mm\n",
    "bound_m1 = np.floor(2*b*B/A)\n",
    "bound_h1 = np.floor(2*b*B/(np.pi * A))\n",
    "bound_mm = np.round(B)\n",
    "\n",
    "Im1 = np.arange(-bound_m1, bound_m1)\n",
    "Ih1 = np.arange(-bound_h1, bound_h1)\n",
    "Imm = np.arange(0, bound_mm)\n",
    "\n",
    "#Grid of angles for formula 10, 11, grid of x parameter\n",
    "theta_net = np.linspace(0, 2*np.pi, int(s_ang))\n",
    "u_net = np.linspace(0, A, int(s_rad))\n",
    "x_net = np.linspace(0, B/A, int(s_rad))\n",
    "# print(len(theta_net), len(u_net))\n",
    "\n",
    "#final parameters of motion\n",
    "omega_net = np.linspace(-np.pi, np.pi, len(Imm))\n",
    "psi_net = np.linspace(-np.pi, np.pi, 4*b*B/A)\n",
    "eta_net = np.linspace(-np.pi, np.pi, 4*b*B/(np.pi * A))\n",
    "\n",
    "#Check\n",
    "print(len(Im1), len(psi_net))\n",
    "print(len(Ih1), len(eta_net))\n",
    "print(len(Imm), len(omega_net))\n",
    "\n",
    "path_in = \"/Users/anoshin_alexey/Documents/Projects/Fast-Bessel-Matching/\"\n",
    "\n",
    "im1 = misc.imread(path_in + \"imm.png\")\n",
    "\n",
    "maxrad = im1.shape[0] ** 2 + im1.shape[1] ** 2\n",
    "maxrad **= 0.5\n",
    "maxrad = np.ceil(maxrad).astype(int)\n",
    "\n",
    "pol1 = polar_trfm(im1, np.round(2*B), int(np.round(2*B/np.pi)), maxrad)\n",
    "\n",
    "print(\"Precount FBM of im1\")\n",
    "#Calculate FBT(10) for every m1,h1,mm of first image\n",
    "Fm_arr = np.zeros((len(Im1) + len(Ih1) + len(Imm), len(x_net)), dtype='complex')\n",
    "c2_coefs = np.zeros((len(Ih1), len(x_net)))\n",
    "c1_coefs = np.zeros((len(Im1), len(x_net)))\n",
    "for it_m1 in tqdm.tqdm(range(len(Im1))):\n",
    "    m1 = Im1[it_m1]\n",
    "    c1 = sp.special.jv(m1, b * x_net) * x_net\n",
    "#     if m1 < 0:\n",
    "#         c1 *= (-1)**abs(m)\n",
    "    c1_coefs[it_m1, :] = c1\n",
    "    for it_h1 in range(len(Ih1)):\n",
    "        h1 = Ih1[it_h1]\n",
    "        if it_m1 == 0:\n",
    "            c2 = sp.special.jv(h1, b * x_net)\n",
    "            c2_coefs[it_h1, :] = c2\n",
    "        for it_mm in range(len(Imm)):\n",
    "            mm = Imm[it_mm]\n",
    "            if Fm_arr[it_m1 + it_h1 + it_mm, :].sum() == 0:\n",
    "                Fm = FBT(pol1, m1+h1+mm, x_net, u_net, theta_net)\n",
    "                Fm_arr[it_m1 + it_h1 + it_mm, :] = Fm\n",
    "\n",
    "im2 = misc.imread(path_in + \"/test/1/imm12.png\")\n",
    "\n",
    "start = timer()\n",
    "\n",
    "Tf = np.zeros((len(Im1), len(Ih1), len(Imm)), dtype='complex')\n",
    "print(Tf.shape)\n",
    "maxrad = im2.shape[0] ** 2 + im2.shape[1] ** 2\n",
    "maxrad **= 0.5\n",
    "maxrad = np.ceil(maxrad).astype(int)\n",
    "pol2 = polar_trfm(im2, int(2*B), int(2*B/np.pi), maxrad)\n",
    "\n",
    "#Calculate FBT(10) for every m1,h1,mm of second image\n",
    "Gm_arr = np.zeros((len(Imm), len(x_net)), dtype='complex')\n",
    "for it_mm in range(len(Imm)):\n",
    "            mm = Imm[it_mm]\n",
    "            Gm_arr[it_mm] = FBT(pol2, mm, x_net, u_net, theta_net)\n",
    "            \n",
    "#caluclate formula 25\n",
    "for it_m1 in tqdm.tqdm(range(len(Im1))):\n",
    "    m1 = Im1[it_m1]\n",
    "    # c1 = sp.special.jn(m1, b * x_net) * x_net\n",
    "    c1 = c1_coefs[it_m1, :]\n",
    "    for it_h1 in range(len(Ih1)):\n",
    "        h1 = Ih1[it_h1]\n",
    "        c2 = c2_coefs[it_h1, :] * c1\n",
    "        # c2 = sp.special.jn(h1, b * x_net) * c1\n",
    "        for it_mm in range(len(Imm)):\n",
    "            mm = Imm[it_mm]\n",
    "            coef = 2 * np.pi * np.exp(1j*(h1+mm)*eps)\n",
    "            # Fm = FBT(pol1, m1+h1+mm, x_net, u_net, theta_net)\n",
    "#             Fm_arr[it_m1 + it_h1 + it_mm] = Fm\n",
    "            Fm = Fm_arr[it_m1 + it_h1 + it_mm]\n",
    "            Gm = Gm_arr[it_mm]\n",
    "            func = Fm * np.conj(Gm) * c2\n",
    "            Tf[it_m1, it_h1, it_mm] = np.trapz(func, x_net) - 1j*np.trapz(sp.imag(func), x_net)\n",
    "            Tf[it_m1, it_h1, it_mm] *= coef\n",
    "\n",
    "T = np.fft.ifftn(Tf)\n",
    "print(T.shape)\n",
    "[ipsi, ietta, iomegga] = np.unravel_index(np.argmax(T), Tf.shape)\n",
    "print(ipsi, ietta, iomegga)\n",
    "psi = psi_net[ipsi]\n",
    "etta = eta_net[ietta]\n",
    "omegga = omega_net[iomegga]\n",
    "print(np.degrees(theta_net[ipsi]), np.degrees(theta_net[ietta]), np.degrees(theta_net[iomegga]))\n",
    "print(np.degrees(psi), np.degrees(etta-psi), np.degrees(omegga-etta), np.degrees(eps))\n",
    "print(np.degrees(psi), np.degrees(etta), np.degrees(omegga), np.degrees(eps))\n",
    "print(40, 10, 5, 11.25, 40+10+5+11.25)\n",
    "alpha = eps + omegga\n",
    "# phi = omegga - etta - psi #np.angle( np.exp(1j*(etta - psi + eps)))\n",
    "# rho = np.abs(b * np.sqrt(2*(1 + np.cos(etta - psi + eps))))\n",
    "rho = np.abs(np.complex(b+b*np.exp(etta - psi + eps)))\n",
    "phi = np.angle(np.exp(1j*psi)*b*(1 + np.exp(1j*(etta - psi + eps))))\n",
    "x = rho * np.cos(phi)\n",
    "y = rho * np.sin(phi)\n",
    "# x1 = rho * np.cos(phi)\n",
    "# y1 = rho * np.sin(phi)\n",
    "a = (alpha * 180 / np.pi) % 360\n",
    "end = timer()\n",
    "time = end - start\n",
    "print(a)\n",
    "# print(x, y, rho)"
   ]
  },
  {
   "cell_type": "code",
   "execution_count": 57,
   "metadata": {},
   "outputs": [
    {
     "name": "stdout",
     "output_type": "stream",
     "text": [
      "(40, 12, 128)\n",
      "20 6 99\n",
      "28.2352941176 8.47058823529 139.764705882\n",
      "184.615384615 11.7482517483 84.2662848962 9.0\n",
      "40 10 5 11.25 66.25\n",
      "289.62992126\n"
     ]
    }
   ],
   "source": [
    "T = np.fft.ifft(Tf, axis=2)\n",
    "print(T.shape)\n",
    "[ipsi, ietta, iomegga] = np.unravel_index(np.argmax(T), Tf.shape)\n",
    "print(ipsi, ietta, iomegga)\n",
    "psi = psi_net[ipsi]\n",
    "etta = eta_net[ietta]\n",
    "omegga = omega_net[iomegga]\n",
    "print(np.degrees(theta_net[ipsi]), np.degrees(theta_net[ietta]), np.degrees(theta_net[iomegga]))\n",
    "print(np.degrees(psi), np.degrees(etta-psi), np.degrees(omegga-etta), np.degrees(eps))\n",
    "print(40, 10, 5, 11.25, 40+10+5+11.25)\n",
    "alpha = eps + omegga\n",
    "# phi = omegga - etta - psi #np.angle( np.exp(1j*(etta - psi + eps)))\n",
    "# rho = np.abs(b * np.sqrt(2*(1 + np.cos(etta - psi + eps))))\n",
    "rho = np.abs(np.complex(b+b*np.exp(etta - psi + eps)))\n",
    "phi = np.angle(np.exp(1j*psi)*b*(1 + np.exp(1j*(etta - psi + eps))))\n",
    "x = rho * np.cos(phi)\n",
    "y = rho * np.sin(phi)\n",
    "# x1 = rho * np.cos(phi)\n",
    "# y1 = rho * np.sin(phi)\n",
    "a = (alpha * 180 / np.pi) % 360\n",
    "end = timer()\n",
    "time = end - start\n",
    "print(a)\n",
    "# print(x, y, rho)"
   ]
  },
  {
   "cell_type": "code",
   "execution_count": 10,
   "metadata": {},
   "outputs": [
    {
     "data": {
      "text/plain": [
       "<matplotlib.image.AxesImage at 0x111f70e80>"
      ]
     },
     "execution_count": 10,
     "metadata": {},
     "output_type": "execute_result"
    },
    {
     "data": {
      "image/png": "[encoded data removed]",
      "text/plain": [
       "<matplotlib.figure.Figure at 0x10300f048>"
      ]
     },
     "metadata": {},
     "output_type": "display_data"
    }
   ],
   "source": [
    "from matplotlib import pyplot as plt\n",
    "%matplotlib inline\n",
    "im1 = misc.imread(\"im1.png\")\n",
    "pol1 = polar_trfm(im1, int(2*B), int(np.round(2*B/np.pi)), 2*A)\n",
    "plt.imshow(pol1)"
   ]
  },
  {
   "cell_type": "code",
   "execution_count": 5,
   "metadata": {},
   "outputs": [
    {
     "name": "stdout",
     "output_type": "stream",
     "text": [
      "19.8994974874 179.095477387 282.211055276\n"
     ]
    }
   ],
   "source": [
    "print(np.degrees(psi), np.degrees(etta), np.degrees(omegga))"
   ]
  },
  {
   "cell_type": "code",
   "execution_count": 46,
   "metadata": {},
   "outputs": [
    {
     "name": "stdout",
     "output_type": "stream",
     "text": [
      "39 5 100\n"
     ]
    },
    {
     "ename": "IndexError",
     "evalue": "index -34 is out of bounds for axis 0 with size 12",
     "output_type": "error",
     "traceback": [
      "\u001b[0;31m---------------------------------------------------------------------------\u001b[0m",
      "\u001b[0;31mIndexError\u001b[0m                                Traceback (most recent call last)",
      "\u001b[0;32m<ipython-input-46-eeaec3ddc649>\u001b[0m in \u001b[0;36m<module>\u001b[0;34m()\u001b[0m\n\u001b[1;32m      2\u001b[0m \u001b[0mprint\u001b[0m\u001b[0;34m(\u001b[0m\u001b[0mipsi\u001b[0m\u001b[0;34m,\u001b[0m \u001b[0mietta\u001b[0m\u001b[0;34m,\u001b[0m \u001b[0miomegga\u001b[0m\u001b[0;34m)\u001b[0m\u001b[0;34m\u001b[0m\u001b[0m\n\u001b[1;32m      3\u001b[0m \u001b[0mpsi\u001b[0m \u001b[0;34m=\u001b[0m \u001b[0mpsi_net\u001b[0m\u001b[0;34m[\u001b[0m\u001b[0mipsi\u001b[0m\u001b[0;34m]\u001b[0m\u001b[0;34m\u001b[0m\u001b[0m\n\u001b[0;32m----> 4\u001b[0;31m \u001b[0metta\u001b[0m \u001b[0;34m=\u001b[0m \u001b[0meta_net\u001b[0m\u001b[0;34m[\u001b[0m\u001b[0mietta\u001b[0m \u001b[0;34m-\u001b[0m \u001b[0mipsi\u001b[0m\u001b[0;34m]\u001b[0m\u001b[0;34m\u001b[0m\u001b[0m\n\u001b[0m\u001b[1;32m      5\u001b[0m \u001b[0momegga\u001b[0m \u001b[0;34m=\u001b[0m \u001b[0momega_net\u001b[0m\u001b[0;34m[\u001b[0m\u001b[0miomegga\u001b[0m \u001b[0;34m-\u001b[0m \u001b[0mietta\u001b[0m \u001b[0;34m]\u001b[0m\u001b[0;34m\u001b[0m\u001b[0m\n\u001b[1;32m      6\u001b[0m \u001b[0mprint\u001b[0m\u001b[0;34m(\u001b[0m\u001b[0mnp\u001b[0m\u001b[0;34m.\u001b[0m\u001b[0mdegrees\u001b[0m\u001b[0;34m(\u001b[0m\u001b[0mpsi\u001b[0m\u001b[0;34m)\u001b[0m\u001b[0;34m,\u001b[0m \u001b[0mnp\u001b[0m\u001b[0;34m.\u001b[0m\u001b[0mdegrees\u001b[0m\u001b[0;34m(\u001b[0m\u001b[0metta\u001b[0m\u001b[0;34m)\u001b[0m\u001b[0;34m,\u001b[0m \u001b[0mnp\u001b[0m\u001b[0;34m.\u001b[0m\u001b[0mdegrees\u001b[0m\u001b[0;34m(\u001b[0m\u001b[0momegga\u001b[0m\u001b[0;34m)\u001b[0m\u001b[0;34m)\u001b[0m\u001b[0;34m\u001b[0m\u001b[0m\n",
      "\u001b[0;31mIndexError\u001b[0m: index -34 is out of bounds for axis 0 with size 12"
     ]
    }
   ],
   "source": [
    "[ipsi, ietta, iomegga] = np.unravel_index(np.argmax(T), T.shape)\n",
    "print(ipsi, ietta, iomegga)\n",
    "psi = psi_net[ipsi]\n",
    "etta = eta_net[ietta - ipsi]\n",
    "omegga = omega_net[iomegga - ietta ]\n",
    "print(np.degrees(psi), np.degrees(etta), np.degrees(omegga))"
   ]
  },
  {
   "cell_type": "code",
   "execution_count": 162,
   "metadata": {},
   "outputs": [
    {
     "data": {
      "text/plain": [
       "array([   0.,   12.,   24.,   36.,   48.,   60.,   72.,   84.,   96.,\n",
       "        108.,  120.,  132.,  144.,  156.,  168.,  180.,  192.,  204.,\n",
       "        216.,  228.,  240.,  252.,  264.,  276.,  288.,  300.,  312.,\n",
       "        324.,  336.,  348.,  360.])"
      ]
     },
     "execution_count": 162,
     "metadata": {},
     "output_type": "execute_result"
    }
   ],
   "source": [
    "np.degrees(psi_net)"
   ]
  },
  {
   "cell_type": "code",
   "execution_count": 143,
   "metadata": {},
   "outputs": [
    {
     "data": {
      "text/plain": [
       "array([   0.,   40.,   80.,  120.,  160.,  200.,  240.,  280.,  320.,  360.])"
      ]
     },
     "execution_count": 143,
     "metadata": {},
     "output_type": "execute_result"
    }
   ],
   "source": [
    "np.degrees(eta_net)"
   ]
  },
  {
   "cell_type": "code",
   "execution_count": 110,
   "metadata": {},
   "outputs": [
    {
     "name": "stdout",
     "output_type": "stream",
     "text": [
      "147 7 21\n",
      "[   0.   18.   36.   54.   72.   90.  108.  126.  144.  162.  180.  198.\n",
      "  216.  234.  252.  270.  288.  306.  324.  342.  360.   60.   78.   96.\n",
      "  114.  132.  150.  168.  186.  204.  222.  240.  258.  276.  294.  312.\n",
      "  330.  348.  366.  384.  402.  420.  120.  138.  156.  174.  192.  210.\n",
      "  228.  246.  264.  282.  300.  318.  336.  354.  372.  390.  408.  426.\n",
      "  444.  462.  480.  180.  198.  216.  234.  252.  270.  288.  306.  324.\n",
      "  342.  360.  378.  396.  414.  432.  450.  468.  486.  504.  522.  540.\n",
      "  240.  258.  276.  294.  312.  330.  348.  366.  384.  402.  420.  438.\n",
      "  456.  474.  492.  510.  528.  546.  564.  582.  600.  300.  318.  336.\n",
      "  354.  372.  390.  408.  426.  444.  462.  480.  498.  516.  534.  552.\n",
      "  570.  588.  606.  624.  642.  660.  360.  378.  396.  414.  432.  450.\n",
      "  468.  486.  504.  522.  540.  558.  576.  594.  612.  630.  648.  666.\n",
      "  684.  702.  720.] 72\n"
     ]
    }
   ],
   "source": [
    "etta_net =[]\n",
    "i = 0\n",
    "for e in eta_net:\n",
    "    for p in psi_net:\n",
    "        etta_net.append(p+e)\n",
    "        i+=1\n",
    "        \n",
    "print(i, len(eta_net), len(psi_net))\n",
    "etta_net = np.array(etta_net)\n",
    "# enet = etta_net[etta_net < 2*np.pi]\n",
    "print(np.degrees(etta_net), len(enet))"
   ]
  },
  {
   "cell_type": "code",
   "execution_count": 92,
   "metadata": {},
   "outputs": [
    {
     "data": {
      "text/plain": [
       "array([   0. ,    1.8,    3.6,    5.4,    7.2,    9. ,   10.8,   12.6,\n",
       "         14.4,   16.2,   18. ,   19.8,   21.6,   23.4,   25.2,   27. ,\n",
       "         28.8,   30.6,   32.4,   34.2,   36. ,   37.8,   39.6,   41.4,\n",
       "         43.2,   45. ,   46.8,   48.6,   50.4,   52.2,   54. ,   55.8,\n",
       "         57.6,   59.4,   61.2,   63. ,   64.8,   66.6,   68.4,   70.2,\n",
       "         72. ,   73.8,   75.6,   77.4,   79.2,   81. ,   82.8,   84.6,\n",
       "         86.4,   88.2,   90. ,   91.8,   93.6,   95.4,   97.2,   99. ,\n",
       "        100.8,  102.6,  104.4,  106.2,  108. ,  109.8,  111.6,  113.4,\n",
       "        115.2,  117. ,  118.8,  120.6,  122.4,  124.2,  126. ,  127.8,\n",
       "        129.6,  131.4,  133.2,  135. ,  136.8,  138.6,  140.4,  142.2,\n",
       "        144. ,  145.8,  147.6,  149.4,  151.2,  153. ,  154.8,  156.6,\n",
       "        158.4,  160.2,  162. ,  163.8,  165.6,  167.4,  169.2,  171. ,\n",
       "        172.8,  174.6,  176.4,  178.2,  180. ,  181.8,  183.6,  185.4,\n",
       "        187.2,  189. ,  190.8,  192.6,  194.4,  196.2,  198. ,  199.8,\n",
       "        201.6,  203.4,  205.2,  207. ,  208.8,  210.6,  212.4,  214.2,\n",
       "        216. ,  217.8,  219.6,  221.4,  223.2,  225. ,  226.8,  228.6,\n",
       "        230.4,  232.2,  234. ,  235.8,  237.6,  239.4,  241.2,  243. ,\n",
       "        244.8,  246.6,  248.4,  250.2,  252. ,  253.8,  255.6,  257.4,\n",
       "        259.2,  261. ,  262.8,  264.6,  266.4,  268.2,  270. ,  271.8,\n",
       "        273.6,  275.4,  277.2,  279. ,  280.8,  282.6,  284.4,  286.2,\n",
       "        288. ,  289.8,  291.6,  293.4,  295.2,  297. ,  298.8,  300.6,\n",
       "        302.4,  304.2,  306. ,  307.8,  309.6,  311.4,  313.2,  315. ,\n",
       "        316.8,  318.6,  320.4,  322.2,  324. ,  325.8,  327.6,  329.4,\n",
       "        331.2,  333. ,  334.8,  336.6,  338.4,  340.2,  342. ,  343.8,\n",
       "        345.6,  347.4,  349.2,  351. ,  352.8,  354.6,  356.4,  358.2,\n",
       "        360. ])"
      ]
     },
     "execution_count": 92,
     "metadata": {},
     "output_type": "execute_result"
    }
   ],
   "source": [
    "np.degrees(omega_net)"
   ]
  },
  {
   "cell_type": "markdown",
   "metadata": {},
   "source": [
    "## Визуализация"
   ]
  },
  {
   "cell_type": "code",
   "execution_count": 35,
   "metadata": {},
   "outputs": [
    {
     "data": {
      "text/plain": [
       "[]"
      ]
     },
     "execution_count": 35,
     "metadata": {},
     "output_type": "execute_result"
    },
    {
     "data": {
      "image/png": "[encoded data removed]",
      "text/plain": [
       "<matplotlib.figure.Figure at 0x111de5160>"
      ]
     },
     "metadata": {},
     "output_type": "display_data"
    }
   ],
   "source": [
    "%matplotlib inline\n",
    "import numpy as np\n",
    "import matplotlib.pyplot as plt\n",
    "plt.subplot(2,1,1)\n",
    "plt.imshow(np.real(Tf[1,:,:]))\n",
    "plt.subplot(2,1,2)\n",
    "plt.imshow(np.real(abs(T[:,:,10])))\n",
    "plt.colorbar()\n",
    "plt.plot()"
   ]
  },
  {
   "cell_type": "markdown",
   "metadata": {},
   "source": [
    "## Комментарии"
   ]
  },
  {
   "cell_type": "code",
   "execution_count": null,
   "metadata": {
    "collapsed": true
   },
   "outputs": [],
   "source": [
    "# for it_m1 in tqdm.tqdm(range(len(Im1))):\n",
    "#     m1 = Im1[it_m1]\n",
    "#     c1 = sp.special.jn(m1, b * x_net) * x_net\n",
    "#     for it_h1 in range(len(Ih1)):\n",
    "#         h1 = Ih1[it_h1]\n",
    "#         # c2 = c2_coefs[it_m1, it_h1, :]\n",
    "#         c2 = sp.special.jn(h1, b * x_net) * c1\n",
    "#         for it_mm in range(len(Imm)):\n",
    "#             mm = Imm[it_mm]\n",
    "#             coef = 2*np.pi * np.exp(1j*(h1+mm)*eps)\n",
    "#             # Fm = FBT(pol1, m1+h1+mm, x_net, u_net, theta_net)\n",
    "# #             Fm_arr[it_m1 + it_h1 + it_mm] = Fm\n",
    "#             Fm = Fm_arr[it_m1 + it_h1 + it_mm]\n",
    "#             Gm = FBT(pol2, mm, x_net, u_net, theta_net)\n",
    "#             func = Fm*np.conj(Gm)*c2\n",
    "#             Tf[it_m1, it_h1, it_mm] = np.trapz(sp.real(func), x_net) \\\n",
    "#                                       + 1j*np.trapz(sp.imag(func), x_net)\n",
    "#             Tf[it_m1, it_h1, it_mm] = Tf[it_m1, it_h1, it_mm] * coef"
   ]
  }
 ],
 "metadata": {
  "kernelspec": {
   "display_name": "Python 3",
   "language": "python",
   "name": "python3"
  },
  "language_info": {
   "codemirror_mode": {
    "name": "ipython",
    "version": 3
   },
   "file_extension": ".py",
   "mimetype": "text/x-python",
   "name": "python",
   "nbconvert_exporter": "python",
   "pygments_lexer": "ipython3",
   "version": "3.6.1"
  }
 },
 "nbformat": 4,
 "nbformat_minor": 2
}
