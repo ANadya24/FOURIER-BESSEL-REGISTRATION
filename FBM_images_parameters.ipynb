{
 "cells": [
  {
   "cell_type": "code",
   "execution_count": null,
   "id": "3bf93558",
   "metadata": {},
   "outputs": [],
   "source": [
    "import numpy as np\n",
    "import scipy as sp\n",
    "from skimage import io\n",
    "from matplotlib import pyplot as plt\n",
    "from skimage import transform\n",
    "from tqdm import tqdm\n",
    "from time import time\n",
    "import pickle\n",
    "%matplotlib inline\n",
    "\n",
    "from utils import shift, iou\n",
    "from registration import (\n",
    "    set_integration_intervals,\n",
    "    laguerre_zeros_precompute, \n",
    "    image_fbt_precompute, \n",
    "    fbm_registration, apply_transform\n",
    ")"
   ]
  },
  {
   "cell_type": "code",
   "execution_count": null,
   "id": "5e9c0506",
   "metadata": {},
   "outputs": [],
   "source": [
    "im1 = io.imread(\"im1.png\")\n",
    "im1 = im1/255."
   ]
  },
  {
   "cell_type": "code",
   "execution_count": null,
   "id": "ca83e3c3",
   "metadata": {},
   "outputs": [],
   "source": [
    "from matrix_utils import *\n",
    "import cv2\n",
    "\n",
    "def shift(im, vec):\n",
    "    mat_trans = get_translation_mat(*vec)\n",
    "    return cv2.warpAffine(im, get_mat_2x3(mat_trans), \n",
    "                          (im.shape[1], im.shape[0]))\n",
    "    \n",
    "    \n",
    "def rotate(im, angle, center=None):\n",
    "    h, w = im.shape[:2]\n",
    "    if center is None:\n",
    "        center = np.array([w // 2, h // 2])\n",
    "    mat_trans_minus_center = get_translation_mat(-center[0], -center[1])\n",
    "    mat_rot = get_rotation_mat(angle, radians=False)\n",
    "    mat_trans_center = get_translation_mat(*center)\n",
    "    return cv2.warpAffine(im, get_mat_2x3(mat_trans_center @ mat_rot @ mat_trans_minus_center),\n",
    "                          (im.shape[1], im.shape[0]))"
   ]
  },
  {
   "cell_type": "code",
   "execution_count": null,
   "id": "a7de23d0",
   "metadata": {},
   "outputs": [],
   "source": [
    "init_ang=-31\n",
    "im2 = rotate(im1, init_ang)\n",
    "im2 = shift(im2, (2, 3))\n",
    "io.imsave('im2.png', np.uint8(im2*255))\n",
    "\n",
    "# im3 = shift(im2, (-4, -3))\n",
    "# im3 = rotate(im3, 360-31)\n",
    "\n",
    "# mask2 = transform.rotate(mask1, init_ang)\n",
    "# mask2 = shift(mask2, (4, 3))\n",
    "\n",
    "\n",
    "# im2 = transform.shift(im1, [init_ang])\n",
    "plt.imshow(np.stack([im1, im2, im2*0], -1))\n",
    "# plt.xlim(50, 100)\n",
    "# plt.ylim(100,150)\n",
    "plt.show()"
   ]
  },
  {
   "cell_type": "code",
   "execution_count": null,
   "id": "3fc26720",
   "metadata": {},
   "outputs": [],
   "source": [
    "# bandwidth = 128\n",
    "pixel_sampling = 0.5\n",
    "com_offset = 20.\n",
    "# lag_func_num=60\n",
    "# lag_scale=3\n",
    "image_radius = 128"
   ]
  },
  {
   "cell_type": "code",
   "execution_count": null,
   "id": "bcca8ca9",
   "metadata": {},
   "outputs": [],
   "source": []
  },
  {
   "cell_type": "code",
   "execution_count": null,
   "id": "e16978ee",
   "metadata": {},
   "outputs": [],
   "source": [
    "Im1, Ih1, Imm, theta_net, u_net, x_net, omega_net, psi_net, eta_net, eps, b, bandwidth = \\\n",
    "            set_integration_intervals(image_radius, pixel_sampling, com_offset)\n",
    "alphas = []\n",
    "for it_m1 in tqdm(range(len(Im1))):\n",
    "    m1 = Im1[it_m1]\n",
    "    for it_h1 in range(len(Ih1)):\n",
    "        h1 = Ih1[it_h1]\n",
    "        for it_mm in range(len(Imm)):\n",
    "            mm = Imm[it_mm]\n",
    "            if abs(m1 + h1 + mm) in alphas:\n",
    "                continue\n",
    "            alphas.append(abs(m1 + h1 + mm))\n",
    "\n",
    "# image_radius = 2 * bandwidth * pixel_sampling / np.pi\n",
    "# print(image_radius)\n",
    "print(theta_net.shape)\n",
    "print(u_net.shape)\n",
    "print(x_net.shape)"
   ]
  },
  {
   "cell_type": "code",
   "execution_count": null,
   "id": "7c6bc813",
   "metadata": {},
   "outputs": [],
   "source": [
    "mask1 = im1# > 0\n",
    "mask2 = im2# > 0"
   ]
  },
  {
   "cell_type": "code",
   "execution_count": null,
   "id": "e92056ef",
   "metadata": {},
   "outputs": [],
   "source": [
    "from skimage.measure import label, regionprops\n",
    "# mask1 = im1 > 0\n",
    "props = regionprops(label(mask1))\n",
    "c1y, c1x = props[0].centroid\n",
    "center = c1x, c1y\n",
    "print(center)"
   ]
  },
  {
   "cell_type": "code",
   "execution_count": null,
   "id": "ef474234",
   "metadata": {},
   "outputs": [],
   "source": [
    "start = time()\n",
    "reg1 = fbm_registration(im1, im2, image_radius=image_radius, p_s=pixel_sampling, com_offset=com_offset,\n",
    "                       method='fbm', masks=[mask1>0, mask2>0], shift_by_mask=False)\n",
    "end = time()\n",
    "\n",
    "im_reg1 = apply_transform(im2, reg1, center)\n",
    "print('IoU:', iou(im1, im_reg1))\n",
    "print('Time:', end - start, 'secs')"
   ]
  },
  {
   "cell_type": "code",
   "execution_count": null,
   "id": "a00d480f",
   "metadata": {},
   "outputs": [],
   "source": [
    "plt.figure()\n",
    "plt.imshow(np.stack([im1, im2, im2*0], -1))\n",
    "\n",
    "plt.figure()\n",
    "plt.imshow(np.stack([im1, im_reg1, im2*0], -1))\n",
    "plt.xlim(50, 200)\n",
    "plt.ylim(200,50)\n"
   ]
  },
  {
   "cell_type": "code",
   "execution_count": null,
   "id": "66eb33f0",
   "metadata": {},
   "outputs": [],
   "source": [
    "reg1"
   ]
  },
  {
   "cell_type": "code",
   "execution_count": null,
   "id": "70777548",
   "metadata": {},
   "outputs": [],
   "source": [
    "reg1"
   ]
  },
  {
   "attachments": {},
   "cell_type": "markdown",
   "id": "249767b6",
   "metadata": {},
   "source": [
    "<div>\n",
    "<img src=\"illustration.jpeg\" width=\"500\"/>\n",
    "</div>"
   ]
  },
  {
   "cell_type": "code",
   "execution_count": null,
   "id": "291f25b9",
   "metadata": {},
   "outputs": [],
   "source": [
    "from utils import normalize_alpha\n"
   ]
  },
  {
   "cell_type": "code",
   "execution_count": null,
   "id": "18cb6c1e",
   "metadata": {},
   "outputs": [],
   "source": [
    "transform_dict = reg1\n",
    "h, w = im2.shape[:2]\n",
    "# if center is None:\n",
    "center = np.array([w // 2, h // 2])\n",
    "image = im2.copy()\n",
    "psi = transform_dict['psi']\n",
    "etta_prime = transform_dict['etta']\n",
    "omegga_prime = transform_dict['omegga']\n",
    "etta = etta_prime - psi\n",
    "omegga = omegga_prime - etta_prime\n",
    "eps = transform_dict['eps']\n",
    "com_offset = transform_dict['com_offset']\n",
    "\n",
    "x = com_offset * np.cos(psi) + com_offset * np.cos(psi + etta + eps)\n",
    "y = com_offset * np.sin(psi) + com_offset * np.sin(psi + etta + eps)\n",
    "rho = (2*com_offset**2 + 2*com_offset**2 * np.cos(psi + etta + eps))**0.5\n",
    "cos_alpha = 3/rho\n",
    "print('rho', rho, cos_alpha, np.degrees(np.arccos(cos_alpha)), rho*np.sin(np.arccos(cos_alpha)))\n",
    "# x, y = 4., 3.\n",
    "print(x, y)\n",
    "alpha = omegga_prime + eps\n",
    "\n",
    "print(np.degrees(alpha), np.degrees(normalize_alpha(alpha)))\n",
    "\n",
    "mat_trans = get_translation_mat(-x, -y)\n",
    "\n",
    "im_shifted = cv2.warpAffine(\n",
    "    im2, get_mat_2x3(mat_trans),\n",
    "    (im2.shape[1], im2.shape[0])\n",
    ")\n",
    "plt.figure()\n",
    "plt.imshow(np.stack([im1, im_shifted, im2*0], -1))\n",
    "\n",
    "mat_trans_minus_center = get_translation_mat(-center[0], -center[1])\n",
    "mat_rot = get_rotation_mat(-normalize_alpha(alpha), radians=True)\n",
    "mat_trans_center = get_translation_mat(center[0], center[1])\n",
    "im_rotated = cv2.warpAffine(\n",
    "    im_shifted, get_mat_2x3(mat_trans_center @ mat_rot @ mat_trans_minus_center),\n",
    "    (im2.shape[1], im2.shape[0])\n",
    ")\n",
    "plt.figure()\n",
    "plt.imshow(np.stack([im1, im_rotated, im2*0], -1))\n",
    "print('IoU:', iou(im1, im_rotated))"
   ]
  },
  {
   "cell_type": "code",
   "execution_count": null,
   "id": "e556d607",
   "metadata": {},
   "outputs": [],
   "source": [
    "transform_dict = reg1\n",
    "h, w = im2.shape[:2]\n",
    "# if center is None:\n",
    "center = np.array([w // 2, h // 2])\n",
    "image = im2.copy()\n",
    "psi = transform_dict['psi']\n",
    "etta_prime = transform_dict['etta']\n",
    "omegga_prime = transform_dict['omegga']\n",
    "etta = etta_prime - psi\n",
    "omegga = omegga_prime - etta_prime\n",
    "eps = transform_dict['eps']\n",
    "b = transform_dict['com_offset']\n",
    "print(np.degrees(psi), np.degrees(etta), np.degrees(omegga), np.degrees(eps))\n",
    "\n",
    "print(np.degrees(omegga_prime + eps))\n",
    "im_f1 = rotate(im2, np.degrees(omegga))\n",
    "plt.figure()\n",
    "plt.imshow(np.stack([im1, im_f1, im2*0], -1))\n",
    "im_f2 = shift(im_f1, (b, 0))\n",
    "plt.figure()\n",
    "plt.imshow(np.stack([im1, im_f2, im2*0], -1))\n",
    "im_f3 = rotate(im_f2, np.degrees(etta))\n",
    "plt.figure()\n",
    "plt.imshow(np.stack([im1, im_f3, im2*0], -1))\n",
    "im_f4 = shift(im_f3, (b, 0))\n",
    "plt.figure()\n",
    "plt.imshow(np.stack([im1, im_f4, im2*0], -1))\n",
    "im_f5 = rotate(im_f4, np.degrees(psi))\n",
    "plt.figure()\n",
    "plt.imshow(np.stack([im1, im_f5, im2*0], -1))\n",
    "im_f6 = im_f5[::-1, ::-1]\n",
    "plt.figure()\n",
    "plt.imshow(np.stack([im1, im_f6, im2*0], -1))\n",
    "plt.title(f'iou: {iou(im1, im_f6)}')"
   ]
  },
  {
   "cell_type": "code",
   "execution_count": null,
   "id": "577cf9f1",
   "metadata": {},
   "outputs": [],
   "source": []
  },
  {
   "cell_type": "code",
   "execution_count": null,
   "id": "83fd2a0b",
   "metadata": {},
   "outputs": [],
   "source": []
  }
 ],
 "metadata": {
  "kernelspec": {
   "display_name": "Python 3 (ipykernel)",
   "language": "python",
   "name": "python3"
  },
  "language_info": {
   "codemirror_mode": {
    "name": "ipython",
    "version": 3
   },
   "file_extension": ".py",
   "mimetype": "text/x-python",
   "name": "python",
   "nbconvert_exporter": "python",
   "pygments_lexer": "ipython3",
   "version": "3.8.5"
  }
 },
 "nbformat": 4,
 "nbformat_minor": 5
}
