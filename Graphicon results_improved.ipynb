{
 "cells": [
  {
   "cell_type": "code",
   "execution_count": 1,
   "id": "623e9cc1",
   "metadata": {},
   "outputs": [],
   "source": [
    "import numpy as np\n",
    "import scipy as sp\n",
    "from skimage import io\n",
    "from matplotlib import pyplot as plt\n",
    "from skimage import transform\n",
    "from tqdm import tqdm\n",
    "from time import time\n",
    "import pickle\n",
    "import os\n",
    "import sys\n",
    "import pandas as pd\n",
    "from glob import glob\n",
    "import mrcfile\n",
    "from skimage import registration as im_reg_met\n",
    "from pathlib import Path\n",
    "import warnings\n",
    "import json\n",
    "\n",
    "warnings.filterwarnings('ignore')\n",
    "%matplotlib inline\n",
    "\n",
    "sys.path.append('./compute results/')\n",
    "from registration_functions import (\n",
    "    precompute_w_params, run_fbm,\n",
    "    run_fbm_laguerre, run_fast_fbm_laguerre,\n",
    "    fixed_image_precompute \n",
    ")\n",
    "from util_functions import normalize, apply_transform, mean_std_normalize, save_arr_mrc"
   ]
  },
  {
   "cell_type": "code",
   "execution_count": 7,
   "id": "573b150e",
   "metadata": {},
   "outputs": [],
   "source": [
    "from pathlib import Path\n",
    "\n",
    "global_path = '/home/ubuntu/Data/cryo-em samples/synthetic_data_2023'\n",
    "folders = ['small_trans']#, 'no_trans']#['no_trans', 'small_trans', 'big_trans']\n",
    "models = ['model6185']# 'model2096']#, 'model6185']\n",
    "names = [('_stack.mrc', '_info.csv')]#, ('_iter_stack.mrc', '_iter_info.csv')]\n",
    "nums = {models[0]:1}#, models[1]:1}"
   ]
  },
  {
   "cell_type": "code",
   "execution_count": 8,
   "id": "b69e23ea",
   "metadata": {},
   "outputs": [],
   "source": [
    "results_path = Path(global_path) / 'results_new'\n",
    "os.makedirs(str(results_path), exist_ok=True)\n",
    "\n",
    "functions = {'fbm': run_fbm, 'fbm_laguerre': run_fbm_laguerre, 'fast_fbm_laguerre': run_fast_fbm_laguerre}\n",
    "\n"
   ]
  },
  {
   "cell_type": "code",
   "execution_count": 9,
   "id": "ed850b0f",
   "metadata": {},
   "outputs": [],
   "source": [
    "method = 'fbm_laguerre'#'fast_fbm_laguerre'\n",
    "method_path = results_path / method\n",
    "os.makedirs(str(method_path), exist_ok=True)\n",
    "\n",
    "func = functions[method]"
   ]
  },
  {
   "cell_type": "code",
   "execution_count": 10,
   "id": "bd416dbc",
   "metadata": {},
   "outputs": [],
   "source": [
    "image_radius = 120\n",
    "pixel_sampling = 0.5\n",
    "com_offset_initial = 10\n",
    "\n",
    "lag_func_num=50\n",
    "lag_scale=5\n",
    "# lag_func_num=50\n",
    "# lag_scale=5\n",
    "lag_num_dots = 3000\n",
    "center = 128, 128\n",
    "normalization = 'standard'\n",
    "\n",
    "\n",
    "input_values = {'image_radius': image_radius,\n",
    "                'pixel_sampling': pixel_sampling,\n",
    "                'com_offset_initial': com_offset_initial,\n",
    "                'normalization':normalization}\n",
    "\n",
    "if 'laguerre' in method:\n",
    "    input_values['lag_func_num'] = lag_func_num\n",
    "    input_values['lag_scale'] = lag_scale\n",
    "    input_values['lag_num_dots'] = lag_num_dots\n",
    "    "
   ]
  },
  {
   "cell_type": "code",
   "execution_count": 11,
   "id": "a4bdb4c2",
   "metadata": {},
   "outputs": [
    {
     "name": "stdout",
     "output_type": "stream",
     "text": [
      "============\n",
      "120\n",
      "s_ang = 753.9822368615503\n",
      "s_rad = 239.99999999999997\n",
      "bandwidth = 376.99111843077515\n",
      "len(Im1) 63 len(Ih1) 21 len(Imm) 378\n",
      "dict_keys(['integration_intervals', 'alphas', 'laguerre_functions', 'precomputed_c1_coefs', 'precomputed_c2_coefs', 'precomputed_coef_exp'])\n",
      "/home/ubuntu/Data/cryo-em samples/synthetic_data_2023/small_trans/model6185/1_stack.mrc\n"
     ]
    },
    {
     "name": "stderr",
     "output_type": "stream",
     "text": [
      "100%|███████████████████████████████████████████| 99/99 [08:54<00:00,  5.40s/it]\n"
     ]
    },
    {
     "name": "stdout",
     "output_type": "stream",
     "text": [
      "          x         y         ang       ksi  eta_prime  omega_prime  dft_x  \\\n",
      "0 -0.604896  0.519287   75.163130  2.432201   5.654867     1.233304    0.0   \n",
      "1 -0.807621 -1.295709   25.507958  4.155010   0.628319     0.366658    0.0   \n",
      "2  1.254380 -2.012466  363.545093  5.269768   1.570796     6.266519    0.0   \n",
      "3 -1.372799  0.282117  176.383289  2.938909   0.000000     2.999929    0.0   \n",
      "4 -0.125089 -2.466547  159.194960  4.661718   0.942478     2.699936    0.0   \n",
      "\n",
      "   dft_y  \n",
      "0    0.0  \n",
      "1    0.0  \n",
      "2    0.0  \n",
      "3    0.0  \n",
      "4    0.0  \n"
     ]
    },
    {
     "name": "stderr",
     "output_type": "stream",
     "text": [
      "100%|███████████████████████████████████████████| 99/99 [17:26<00:00, 10.58s/it]\n"
     ]
    },
    {
     "name": "stdout",
     "output_type": "stream",
     "text": [
      "          x         y         ang       ksi  eta_prime  omega_prime  dft_x  \\\n",
      "0  0.394977 -0.633682   75.163130  5.269768   2.199115     1.233304    0.0   \n",
      "1 -0.807621 -1.295709   25.507958  4.155010   0.628319     0.366658    0.0   \n",
      "2 -0.938634  3.625217  363.545093  1.824151   5.654867     6.266519    0.0   \n",
      "3 -1.444192 -0.146860  176.383289  3.242934   0.314159     2.999929    0.0   \n",
      "4  1.267873  3.423360  159.194960  1.216100   5.026548     2.699936    0.0   \n",
      "\n",
      "   dft_y  \n",
      "0    0.0  \n",
      "1    0.0  \n",
      "2    0.0  \n",
      "3    0.0  \n",
      "4    0.0  \n"
     ]
    },
    {
     "name": "stderr",
     "output_type": "stream",
     "text": [
      "100%|███████████████████████████████████████████| 99/99 [09:03<00:00,  5.49s/it]\n"
     ]
    },
    {
     "name": "stdout",
     "output_type": "stream",
     "text": [
      "          x         y         ang       ksi  eta_prime  omega_prime  dft_x  \\\n",
      "0  0.604896 -0.519287   77.072944  5.573793   2.513274     1.266637    0.0   \n",
      "1  1.682726  1.171212   25.507958  0.608050   4.084070     0.366658    0.0   \n",
      "2  1.750862 -2.261927  363.545093  5.371110   1.570796     6.266519    0.0   \n",
      "3 -1.444192 -0.146860  176.383289  3.242934   0.314159     2.999929    0.0   \n",
      "4  1.267873  3.423360  159.194960  1.216100   5.026548     2.699936    0.0   \n",
      "\n",
      "   dft_y  \n",
      "0    0.0  \n",
      "1    0.0  \n",
      "2    0.0  \n",
      "3    0.0  \n",
      "4    0.0  \n"
     ]
    },
    {
     "name": "stderr",
     "output_type": "stream",
     "text": [
      "100%|███████████████████████████████████████████| 99/99 [08:24<00:00,  5.10s/it]\n"
     ]
    },
    {
     "name": "stdout",
     "output_type": "stream",
     "text": [
      "          x         y         ang       ksi  eta_prime  omega_prime  dft_x  \\\n",
      "0  0.604896 -0.519287   75.163130  5.573793   2.513274     1.233304    0.0   \n",
      "1 -0.807621 -1.295709   25.507958  4.155010   0.628319     0.366658    0.0   \n",
      "2  1.750862 -2.261927  363.545093  5.371110   1.570796     6.266519    0.0   \n",
      "3 -1.372799  0.282117  176.383289  2.938909   0.000000     2.999929    0.0   \n",
      "4  0.149787 -2.953554  159.194960  4.763060   0.942478     2.699936    0.0   \n",
      "\n",
      "   dft_y  \n",
      "0    0.0  \n",
      "1    0.0  \n",
      "2    0.0  \n",
      "3    0.0  \n",
      "4    0.0  \n"
     ]
    }
   ],
   "source": [
    "params = precompute_w_params(image_radius=image_radius,\n",
    "                            pixel_sampling=pixel_sampling, com_offset_initial=com_offset_initial,\n",
    "                             lag_func_num=lag_func_num, lag_scale=lag_scale, \n",
    "                             lag_num_dots=lag_num_dots, compute_zeros=False)\n",
    "print(params.keys())\n",
    "\n",
    "for folder in folders:\n",
    "    for model in models:\n",
    "        for path in glob(str(Path(global_path) / folder / model / f'{nums[model]}_stack.mrc')):\n",
    "            print(path)\n",
    "            with mrcfile.open(path) as mrc:\n",
    "                seq = mrc.data\n",
    "            fixed_image = normalize(sp.ndimage.gaussian_filter(seq[0].copy(), 1.3))\n",
    "            params = fixed_image_precompute(fixed_image,\n",
    "                                            params, method='fbm', image_radius=input_values['image_radius']) \n",
    "#                                             lag_func_num=input_values['lag_func_num'], \n",
    "#                                             lag_scale = input_values['lag_scale'],\n",
    "#                                             lag_num_dots=input_values['lag_num_dots'])\n",
    "\n",
    "            method_path = results_path / method\n",
    "            os.makedirs(str(method_path), exist_ok=True)\n",
    "\n",
    "            opath = method_path / folder / model\n",
    "            os.makedirs(opath, exist_ok=True)\n",
    "            opath = method_path / folder / model / str(path).split('/')[-1]\n",
    "#             if not os.path.exists(opath):\n",
    "#                 df, fbm_seq, fbm_seq_shift = func(seq, params)\n",
    "#                 save_arr_mrc(opath, fbm_seq)\n",
    "#                 df.to_csv(str(opath).replace('stack.mrc', 'info.csv'))\n",
    "\n",
    "        for snr_value in [0.1, 0.5, 1., 2.]:\n",
    "            for data_name in glob(str(Path(global_path) / folder / model / \n",
    "                                      f'{snr_value}/{nums[model]}_stack.mrc')):\n",
    "                with mrcfile.open(data_name) as mrc:\n",
    "                    seq = mrc.data\n",
    "                df, fbm_seq, fbm_seq_shift = func(seq=seq, func_parameters=params, **input_values)\n",
    "                opath = method_path / folder / model / str(snr_value)\n",
    "                os.makedirs(str(opath), exist_ok=True)\n",
    "                opath = method_path / folder / model / str(snr_value) / data_name.split('/')[-1]\n",
    "                save_arr_mrc(opath, fbm_seq)\n",
    "                df.to_csv(str(opath).replace('stack.mrc', 'info.csv'))\n",
    "                with open( method_path / folder /'params.json', 'w') as file:\n",
    "                    json.dump(input_values, file)\n",
    "                print(df.head())\n"
   ]
  },
  {
   "cell_type": "code",
   "execution_count": 7,
   "id": "2af13b52",
   "metadata": {},
   "outputs": [
    {
     "name": "stdout",
     "output_type": "stream",
     "text": [
      "SNR 0.1\n",
      "   Unnamed: 0         x         y        ang       ksi  eta_prime  \\\n",
      "0           0  1.653695  2.653109  63.704244  1.013417   4.712389   \n",
      "1           1 -1.682726 -1.171212  36.966844  3.749643   0.942478   \n",
      "\n",
      "   omega_prime  dft_x  dft_y  \n",
      "0     1.033309   0.94   4.39  \n",
      "1     0.566653  -0.03  -2.83  \n",
      "SNR 0.5\n",
      "   Unnamed: 0         x         y        ang       ksi  eta_prime  \\\n",
      "0           0  0.606726 -2.343313  63.704244  4.965743   1.256637   \n",
      "1           1  0.807621  1.295709  36.966844  1.013417   3.769911   \n",
      "\n",
      "   omega_prime  dft_x  dft_y  \n",
      "0     1.033309   0.15   0.78  \n",
      "1     0.566653   2.57   0.35  \n",
      "SNR 1.0\n",
      "   Unnamed: 0         x         y        ang       ksi  eta_prime  \\\n",
      "0           0  1.653695  2.653109  63.704244  1.013417   4.712389   \n",
      "1           1  0.807621  1.295709  36.966844  1.013417   3.769911   \n",
      "\n",
      "   omega_prime  dft_x  dft_y  \n",
      "0     1.033309   1.07   5.55  \n",
      "1     0.566653   2.56   0.27  \n",
      "SNR 2.0\n",
      "   Unnamed: 0         x         y        ang       ksi  eta_prime  \\\n",
      "0           0  1.653695  2.653109  63.704244  1.013417   4.712389   \n",
      "1           1  0.807621  1.295709  36.966844  1.013417   3.769911   \n",
      "\n",
      "   omega_prime  dft_x  dft_y  \n",
      "0     1.033309   0.93   5.49  \n",
      "1     0.566653   2.34   0.15  \n"
     ]
    }
   ],
   "source": [
    "for snr_value in [0.1, 0.5, 1., 2.]:\n",
    "    print('SNR', snr_value)\n",
    "    gt_df2 = pd.read_csv('/home/ubuntu/Data/cryo-em samples/synthetic_data_2023/results_model2096_small/fbm_laguerre/' \\\n",
    "                         + f'small_trans/model2096/{snr_value}/2_info.csv')\n",
    "    print(gt_df2.head(2))"
   ]
  },
  {
   "cell_type": "code",
   "execution_count": null,
   "id": "c52ee415",
   "metadata": {},
   "outputs": [],
   "source": []
  }
 ],
 "metadata": {
  "kernelspec": {
   "display_name": "Python 3 (ipykernel)",
   "language": "python",
   "name": "python3"
  },
  "language_info": {
   "codemirror_mode": {
    "name": "ipython",
    "version": 3
   },
   "file_extension": ".py",
   "mimetype": "text/x-python",
   "name": "python",
   "nbconvert_exporter": "python",
   "pygments_lexer": "ipython3",
   "version": "3.10.12"
  }
 },
 "nbformat": 4,
 "nbformat_minor": 5
}
